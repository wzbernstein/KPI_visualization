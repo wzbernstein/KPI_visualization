{
 "cells": [
  {
   "cell_type": "code",
   "execution_count": 33,
   "metadata": {
    "collapsed": false,
    "nbpresent": {
     "id": "12280b8a-824a-47c2-8074-3c8e2b4538db"
    }
   },
   "outputs": [
    {
     "data": {
      "text/html": [
       "\n",
       "<div style=\"background-color:gainsboro; border:solid black; width:300px; padding:20px;\">\n",
       "  <span id=\"PDOT\">PDOT</span> : <input type=\"text\" id=\"PDOT_value\" value=\"\"><br>\n",
       "  <span id=\"PRI\">PRI</span> : <input type=\"text\" id=\"PRI_value\" value=\"\"><br>\n",
       "  <span id=\"PUST\">PUST</span> : <input type=\"text\" id=\"PUST_value\" value=\"\"><br>\n",
       "  <span id=\"AUST\">AUST</span> : <input type=\"text\" id=\"AUST_value\" value=\"\"><br>\n",
       "  <span id=\"APT\">APT</span> : <input type=\"text\" id=\"APT_value\" value=\"\"><br>\n",
       "  <span id=\"ADOT\">ADOT</span> : <input type=\"text\" id=\"ADOT_value\" value=\"\"><br>\n",
       "  <span id=\"ATT\">ATT</span> : <input type=\"text\" id=\"ATT_value\" value=\"\"><br>\n",
       "  <span id=\"AQT\">AQT</span> : <input type=\"text\" id=\"AQT_value\" value=\"\"><br>\n",
       "  <span id=\"APWT\">APWT</span> : <input type=\"text\" id=\"APWT_value\" value=\"\"><br>\n",
       "  <span id=\"APAT\">APAT</span> : <input type=\"text\" id=\"APAT_value\" value=\"\"><br>\n",
       "  <span id=\"GQ\">GQ</span> : <input type=\"text\" id=\"GQ_value\" value=\"\"><br>\n",
       "  <span id=\"SQ\">SQ</span> : <input type=\"text\" id=\"SQ_value\" value=\"\"><br>\n",
       "  <span id=\"PSQ\">PSQ</span> : <input type=\"text\" id=\"PSQ_value\" value=\"\"><br>\n",
       "  <span id=\"RQ\">RQ</span> : <input type=\"text\" id=\"RQ_value\" value=\"\"><br>\n",
       "  <span id=\"OTBF\">OTBF</span> : <input type=\"text\" id=\"OTBF_value\" value=\"\"><br>\n",
       "  <span id=\"CMT\">CMT</span> : <input type=\"text\" id=\"CMT_value\" value=\"\"><br>\n",
       "  <span id=\"PMT\">PMT</span> : <input type=\"text\" id=\"PMT_value\" value=\"\"><br>\n",
       "  <span id=\"BLT\">BLT</span> : <input type=\"text\" id=\"BLT_value\" value=\"\"><br>  \n",
       "  <span id=\"STT\">STT</span> : <input type=\"text\" id=\"STT_value\" value=\"\"><br>  \n",
       "<button onclick=\"set_value()\">Set Value</button>\n",
       "</div>\n",
       "\n",
       "<script type=\"text/Javascript\">\n",
       "    function set_value(){\n",
       "        \n",
       "        var PDOT = document.getElementById('PDOT').innerHTML; \n",
       "        var PDOT_value = document.getElementById('PDOT_value').value;            \n",
       "        var command_PDOT = PDOT + \" = '\" + PDOT_value + \"'\";\n",
       "        console.log(\"Executing Command: \" + command_PDOT);\n",
       "        \n",
       "        var PRI = document.getElementById('PRI').innerHTML; \n",
       "        var PRI_value = document.getElementById('PRI_value').value;            \n",
       "        var command_PRI = PRI + \" = '\" + PRI_value + \"'\";\n",
       "        console.log(\"Executing Command: \" + command_PRI);\n",
       "        \n",
       "        var PUST = document.getElementById('PUST').innerHTML; \n",
       "        var PUST_value = document.getElementById('PUST_value').value;            \n",
       "        var command_PUST = PUST + \" = '\" + PUST_value + \"'\";\n",
       "        console.log(\"Executing Command: \" + command_PUST);\n",
       "\n",
       "        var AUST = document.getElementById('AUST').innerHTML; \n",
       "        var AUST_value = document.getElementById('AUST_value').value;            \n",
       "        var command_AUST = AUST + \" = '\" + AUST_value + \"'\";\n",
       "        console.log(\"Executing Command: \" + command_AUST);\n",
       "        \n",
       "        var APT = document.getElementById('APT').innerHTML; \n",
       "        var APT_value = document.getElementById('APT_value').value;            \n",
       "        var command_APT = APT + \" = '\" + APT_value + \"'\";\n",
       "        console.log(\"Executing Command: \" + command_APT);\n",
       "        \n",
       "        var ADOT = document.getElementById('ADOT').innerHTML; \n",
       "        var ADOT_value = document.getElementById('ADOT_value').value;            \n",
       "        var command_ADOT = ADOT + \" = '\" + ADOT_value + \"'\";\n",
       "        console.log(\"Executing Command: \" + command_ADOT);\n",
       "        \n",
       "        var ATT = document.getElementById('ATT').innerHTML; \n",
       "        var ATT_value = document.getElementById('ATT_value').value;            \n",
       "        var command_ATT = ATT + \" = '\" + ATT_value + \"'\";\n",
       "        console.log(\"Executing Command: \" + command_ATT);\n",
       "        \n",
       "        var AQT = document.getElementById('AQT').innerHTML; \n",
       "        var AQT_value = document.getElementById('AQT_value').value;            \n",
       "        var command_AQT = AQT + \" = '\" + AQT_value + \"'\";\n",
       "        console.log(\"Executing Command: \" + command_AQT);\n",
       "        \n",
       "                var APWT = document.getElementById('APWT').innerHTML; \n",
       "        var APWT_value = document.getElementById('APWT_value').value;            \n",
       "        var command_APWT = APWT + \" = '\" + APWT_value + \"'\";\n",
       "        console.log(\"Executing Command: \" + command_APWT);\n",
       "        \n",
       "                var APAT = document.getElementById('APAT').innerHTML; \n",
       "        var APAT_value = document.getElementById('APAT_value').value;            \n",
       "        var command_APAT = APAT + \" = '\" + APAT_value + \"'\";\n",
       "        console.log(\"Executing Command: \" + command_APAT);\n",
       "        \n",
       "                var GQ = document.getElementById('GQ').innerHTML; \n",
       "        var GQ_value = document.getElementById('GQ_value').value;            \n",
       "        var command_GQ = GQ + \" = '\" + GQ_value + \"'\";\n",
       "        console.log(\"Executing Command: \" + command_GQ);\n",
       "        \n",
       "                        var SQ = document.getElementById('SQ').innerHTML; \n",
       "        var SQ_value = document.getElementById('SQ_value').value;            \n",
       "        var command_SQ = SQ + \" = '\" + SQ_value + \"'\";\n",
       "        console.log(\"Executing Command: \" + command_SQ);\n",
       "\n",
       "        var PSQ = document.getElementById('PSQ').innerHTML; \n",
       "        var PSQ_value = document.getElementById('PSQ_value').value;            \n",
       "        var command_PSQ = PSQ + \" = '\" + PSQ_value + \"'\";\n",
       "        console.log(\"Executing Command: \" + command_PSQ);\n",
       "\n",
       "        var RQ = document.getElementById('RQ').innerHTML; \n",
       "        var RQ_value = document.getElementById('RQ_value').value;            \n",
       "        var command_RQ = RQ + \" = '\" + RQ_value + \"'\";\n",
       "        console.log(\"Executing Command: \" + command_RQ);\n",
       "        \n",
       "        var OTBF = document.getElementById('OTBF').innerHTML; \n",
       "        var OTBF_value = document.getElementById('OTBF_value').value;            \n",
       "        var command_OTBF = OTBF + \" = '\" + OTBF_value + \"'\";\n",
       "        console.log(\"Executing Command: \" + command_OTBF);\n",
       "\n",
       "        var CMT = document.getElementById('CMT').innerHTML; \n",
       "        var CMT_value = document.getElementById('CMT_value').value;            \n",
       "        var command_CMT = CMT + \" = '\" + CMT_value + \"'\";\n",
       "        console.log(\"Executing Command: \" + command_CMT);\n",
       "\n",
       "        var PMT = document.getElementById('PMT').innerHTML; \n",
       "        var PMT_value = document.getElementById('PMT_value').value;            \n",
       "        var command_PMT = PMT + \" = '\" + PMT_value + \"'\";\n",
       "        console.log(\"Executing Command: \" + command_PMT);\n",
       "        \n",
       "        var BLT = document.getElementById('BLT').innerHTML; \n",
       "        var BLT_value = document.getElementById('BLT_value').value;            \n",
       "        var command_BLT = BLT + \" = '\" + BLT_value + \"'\";\n",
       "        console.log(\"Executing Command: \" + command_BLT);\n",
       "        \n",
       "        var STT = document.getElementById('STT').innerHTML; \n",
       "        var STT_value = document.getElementById('STT_value').value;            \n",
       "        var command_STT = STT + \" = '\" + STT_value + \"'\";\n",
       "        console.log(\"Executing Command: \" + command_STT);\n",
       "        \n",
       "        var kernel = IPython.notebook.kernel;\n",
       "        kernel.execute(command_PDOT);\n",
       "        kernel.execute(command_PRI);\n",
       "        kernel.execute(command_PUST);\n",
       "        kernel.execute(command_AUST);\n",
       "        kernel.execute(command_APT);\n",
       "        kernel.execute(command_ADOT);\n",
       "        kernel.execute(command_ATT);\n",
       "        kernel.execute(command_AQT);\n",
       "        kernel.execute(command_APWT);\n",
       "        kernel.execute(command_APAT);\n",
       "        kernel.execute(command_GQ);\n",
       "        kernel.execute(command_SQ);\n",
       "        kernel.execute(command_PSQ);\n",
       "        kernel.execute(command_RQ);\n",
       "        kernel.execute(command_OTBF);\n",
       "        kernel.execute(command_CMT);\n",
       "        kernel.execute(command_PMT);\n",
       "        kernel.execute(command_BLT);\n",
       "        kernel.execute(command_STT);\n",
       "    }\n",
       "</script>\n"
      ],
      "text/plain": [
       "<IPython.core.display.HTML object>"
      ]
     },
     "execution_count": 33,
     "metadata": {},
     "output_type": "execute_result"
    }
   ],
   "source": [
    "# %run measure_input.py\n",
    "from IPython.display import HTML\n",
    "\n",
    "input_form = \"\"\"\n",
    "<div style=\"background-color:gainsboro; border:solid black; width:300px; padding:20px;\">\n",
    "  <span id=\"PDOT\">PDOT</span> : <input type=\"text\" id=\"PDOT_value\" value=\"\"><br>\n",
    "  <span id=\"PRI\">PRI</span> : <input type=\"text\" id=\"PRI_value\" value=\"\"><br>\n",
    "  <span id=\"PUST\">PUST</span> : <input type=\"text\" id=\"PUST_value\" value=\"\"><br>\n",
    "  <span id=\"AUST\">AUST</span> : <input type=\"text\" id=\"AUST_value\" value=\"\"><br>\n",
    "  <span id=\"APT\">APT</span> : <input type=\"text\" id=\"APT_value\" value=\"\"><br>\n",
    "  <span id=\"ADOT\">ADOT</span> : <input type=\"text\" id=\"ADOT_value\" value=\"\"><br>\n",
    "  <span id=\"ATT\">ATT</span> : <input type=\"text\" id=\"ATT_value\" value=\"\"><br>\n",
    "  <span id=\"AQT\">AQT</span> : <input type=\"text\" id=\"AQT_value\" value=\"\"><br>\n",
    "  <span id=\"APWT\">APWT</span> : <input type=\"text\" id=\"APWT_value\" value=\"\"><br>\n",
    "  <span id=\"APAT\">APAT</span> : <input type=\"text\" id=\"APAT_value\" value=\"\"><br>\n",
    "  <span id=\"GQ\">GQ</span> : <input type=\"text\" id=\"GQ_value\" value=\"\"><br>\n",
    "  <span id=\"SQ\">SQ</span> : <input type=\"text\" id=\"SQ_value\" value=\"\"><br>\n",
    "  <span id=\"PSQ\">PSQ</span> : <input type=\"text\" id=\"PSQ_value\" value=\"\"><br>\n",
    "  <span id=\"RQ\">RQ</span> : <input type=\"text\" id=\"RQ_value\" value=\"\"><br>\n",
    "  <span id=\"OTBF\">OTBF</span> : <input type=\"text\" id=\"OTBF_value\" value=\"\"><br>\n",
    "  <span id=\"CMT\">CMT</span> : <input type=\"text\" id=\"CMT_value\" value=\"\"><br>\n",
    "  <span id=\"PMT\">PMT</span> : <input type=\"text\" id=\"PMT_value\" value=\"\"><br>\n",
    "  <span id=\"BLT\">BLT</span> : <input type=\"text\" id=\"BLT_value\" value=\"\"><br>  \n",
    "  <span id=\"STT\">STT</span> : <input type=\"text\" id=\"STT_value\" value=\"\"><br>  \n",
    "<button onclick=\"set_value()\">Set Value</button>\n",
    "</div>\n",
    "\"\"\"\n",
    "\n",
    "javascript = \"\"\"\n",
    "<script type=\"text/Javascript\">\n",
    "    function set_value(){\n",
    "        \n",
    "        var PDOT = document.getElementById('PDOT').innerHTML; \n",
    "        var PDOT_value = document.getElementById('PDOT_value').value;            \n",
    "        var command_PDOT = PDOT + \" = '\" + PDOT_value + \"'\";\n",
    "        console.log(\"Executing Command: \" + command_PDOT);\n",
    "        \n",
    "        var PRI = document.getElementById('PRI').innerHTML; \n",
    "        var PRI_value = document.getElementById('PRI_value').value;            \n",
    "        var command_PRI = PRI + \" = '\" + PRI_value + \"'\";\n",
    "        console.log(\"Executing Command: \" + command_PRI);\n",
    "        \n",
    "        var PUST = document.getElementById('PUST').innerHTML; \n",
    "        var PUST_value = document.getElementById('PUST_value').value;            \n",
    "        var command_PUST = PUST + \" = '\" + PUST_value + \"'\";\n",
    "        console.log(\"Executing Command: \" + command_PUST);\n",
    "\n",
    "        var AUST = document.getElementById('AUST').innerHTML; \n",
    "        var AUST_value = document.getElementById('AUST_value').value;            \n",
    "        var command_AUST = AUST + \" = '\" + AUST_value + \"'\";\n",
    "        console.log(\"Executing Command: \" + command_AUST);\n",
    "        \n",
    "        var APT = document.getElementById('APT').innerHTML; \n",
    "        var APT_value = document.getElementById('APT_value').value;            \n",
    "        var command_APT = APT + \" = '\" + APT_value + \"'\";\n",
    "        console.log(\"Executing Command: \" + command_APT);\n",
    "        \n",
    "        var ADOT = document.getElementById('ADOT').innerHTML; \n",
    "        var ADOT_value = document.getElementById('ADOT_value').value;            \n",
    "        var command_ADOT = ADOT + \" = '\" + ADOT_value + \"'\";\n",
    "        console.log(\"Executing Command: \" + command_ADOT);\n",
    "        \n",
    "        var ATT = document.getElementById('ATT').innerHTML; \n",
    "        var ATT_value = document.getElementById('ATT_value').value;            \n",
    "        var command_ATT = ATT + \" = '\" + ATT_value + \"'\";\n",
    "        console.log(\"Executing Command: \" + command_ATT);\n",
    "        \n",
    "        var AQT = document.getElementById('AQT').innerHTML; \n",
    "        var AQT_value = document.getElementById('AQT_value').value;            \n",
    "        var command_AQT = AQT + \" = '\" + AQT_value + \"'\";\n",
    "        console.log(\"Executing Command: \" + command_AQT);\n",
    "        \n",
    "                var APWT = document.getElementById('APWT').innerHTML; \n",
    "        var APWT_value = document.getElementById('APWT_value').value;            \n",
    "        var command_APWT = APWT + \" = '\" + APWT_value + \"'\";\n",
    "        console.log(\"Executing Command: \" + command_APWT);\n",
    "        \n",
    "                var APAT = document.getElementById('APAT').innerHTML; \n",
    "        var APAT_value = document.getElementById('APAT_value').value;            \n",
    "        var command_APAT = APAT + \" = '\" + APAT_value + \"'\";\n",
    "        console.log(\"Executing Command: \" + command_APAT);\n",
    "        \n",
    "                var GQ = document.getElementById('GQ').innerHTML; \n",
    "        var GQ_value = document.getElementById('GQ_value').value;            \n",
    "        var command_GQ = GQ + \" = '\" + GQ_value + \"'\";\n",
    "        console.log(\"Executing Command: \" + command_GQ);\n",
    "        \n",
    "                        var SQ = document.getElementById('SQ').innerHTML; \n",
    "        var SQ_value = document.getElementById('SQ_value').value;            \n",
    "        var command_SQ = SQ + \" = '\" + SQ_value + \"'\";\n",
    "        console.log(\"Executing Command: \" + command_SQ);\n",
    "\n",
    "        var PSQ = document.getElementById('PSQ').innerHTML; \n",
    "        var PSQ_value = document.getElementById('PSQ_value').value;            \n",
    "        var command_PSQ = PSQ + \" = '\" + PSQ_value + \"'\";\n",
    "        console.log(\"Executing Command: \" + command_PSQ);\n",
    "\n",
    "        var RQ = document.getElementById('RQ').innerHTML; \n",
    "        var RQ_value = document.getElementById('RQ_value').value;            \n",
    "        var command_RQ = RQ + \" = '\" + RQ_value + \"'\";\n",
    "        console.log(\"Executing Command: \" + command_RQ);\n",
    "        \n",
    "        var OTBF = document.getElementById('OTBF').innerHTML; \n",
    "        var OTBF_value = document.getElementById('OTBF_value').value;            \n",
    "        var command_OTBF = OTBF + \" = '\" + OTBF_value + \"'\";\n",
    "        console.log(\"Executing Command: \" + command_OTBF);\n",
    "\n",
    "        var CMT = document.getElementById('CMT').innerHTML; \n",
    "        var CMT_value = document.getElementById('CMT_value').value;            \n",
    "        var command_CMT = CMT + \" = '\" + CMT_value + \"'\";\n",
    "        console.log(\"Executing Command: \" + command_CMT);\n",
    "\n",
    "        var PMT = document.getElementById('PMT').innerHTML; \n",
    "        var PMT_value = document.getElementById('PMT_value').value;            \n",
    "        var command_PMT = PMT + \" = '\" + PMT_value + \"'\";\n",
    "        console.log(\"Executing Command: \" + command_PMT);\n",
    "        \n",
    "        var BLT = document.getElementById('BLT').innerHTML; \n",
    "        var BLT_value = document.getElementById('BLT_value').value;            \n",
    "        var command_BLT = BLT + \" = '\" + BLT_value + \"'\";\n",
    "        console.log(\"Executing Command: \" + command_BLT);\n",
    "        \n",
    "        var STT = document.getElementById('STT').innerHTML; \n",
    "        var STT_value = document.getElementById('STT_value').value;            \n",
    "        var command_STT = STT + \" = '\" + STT_value + \"'\";\n",
    "        console.log(\"Executing Command: \" + command_STT);\n",
    "        \n",
    "        var kernel = IPython.notebook.kernel;\n",
    "        kernel.execute(command_PDOT);\n",
    "        kernel.execute(command_PRI);\n",
    "        kernel.execute(command_PUST);\n",
    "        kernel.execute(command_AUST);\n",
    "        kernel.execute(command_APT);\n",
    "        kernel.execute(command_ADOT);\n",
    "        kernel.execute(command_ATT);\n",
    "        kernel.execute(command_AQT);\n",
    "        kernel.execute(command_APWT);\n",
    "        kernel.execute(command_APAT);\n",
    "        kernel.execute(command_GQ);\n",
    "        kernel.execute(command_SQ);\n",
    "        kernel.execute(command_PSQ);\n",
    "        kernel.execute(command_RQ);\n",
    "        kernel.execute(command_OTBF);\n",
    "        kernel.execute(command_CMT);\n",
    "        kernel.execute(command_PMT);\n",
    "        kernel.execute(command_BLT);\n",
    "        kernel.execute(command_STT);\n",
    "    }\n",
    "</script>\n",
    "\"\"\"\n",
    "HTML(input_form + javascript)"
   ]
  },
  {
   "cell_type": "markdown",
   "metadata": {
    "nbpresent": {
     "id": "879c803a-4a50-4222-8c99-302613f3ffae"
    }
   },
   "source": [
    "# Low Level Measures\n",
    "\n",
    "* Planned Down Time (PDOT)\n",
    "* Planned run time per item (PRI)\n",
    "* Planned Unit Setup Time (PUST)\n",
    "* Actual Unit Setup Time (AUST)\n",
    "* Actual Production Time (APT)\n",
    "* Actual Unit Downtime (ADOT)\n",
    "* Actual Transportation Time (ATT)\n",
    "* Actual Queueing Time (AQT)\n",
    "* Actual Personnel Work Time (APWT)\n",
    "* Actual Personnel Attendance Time (APAT)\n",
    "* Good Quantity (GQ)\n",
    "* Scrap Quantity (SQ)\n",
    "* Planned Scrap Quantity (PSQ)\n",
    "* Rework Quantity (RQ)\n",
    "* Operating Time Between Failures (OTBF)\n",
    "* Corrective Maintenance Time (CMT)\n",
    "* Preventative Maintenance Time (PMT)\n",
    "* Blockage Time (BLT)\n",
    "* Starvation Time (STT)"
   ]
  },
  {
   "cell_type": "markdown",
   "metadata": {},
   "source": [
    "# Mid Level Measures\n",
    "\n",
    "* Planned Operation Time (POT) \n",
    "* Planned Order Execution Time (POET) \n",
    "* Planned Busy Time (PBT) \n",
    "* Actual Unit Delay Time (ADET) = Actual Unit Idle Time (AUIT)\n",
    "* Actual Unit Processing Time (AUPT)\n",
    "* Actual Unit Busy Time (AUBT)\n",
    "* Actual Order Execution Time (AOET) \n",
    "* Produced Quantity (PQ) \n",
    "* Produced Quantity in First Operation (PQF)\n",
    "* Time to Failure (TTF)"
   ]
  },
  {
   "cell_type": "markdown",
   "metadata": {},
   "source": [
    "# Key Performance Indicators\n",
    "* Availability (A)\n",
    "* Allocation Efficiency (AE)\n",
    "* Technical Efficiency (TE)\n",
    "* Worker Effiency (WE)\n",
    "* Utilization Efficiency (UE)\n",
    "* Efficiency (E)\n",
    "* First Time Quality (FTQ)\n",
    "* Quality Buy Rate (QBR)\n",
    "* Setup Ratio (SeR)\n",
    "* Blockage Ratio (BL)\n",
    "* Starvation Ratio (ST)\n",
    "* Actual to Planned Scrap Ratio (SQR)\n",
    "* Scrap Ratio (SR)\n",
    "* Rework Ratio (RR)\n",
    "* Fall off Ratio (FR)\n",
    "* Corrective Maintenance Ratio (CMR)"
   ]
  },
  {
   "cell_type": "code",
   "execution_count": 42,
   "metadata": {
    "collapsed": false,
    "nbpresent": {
     "id": "60da197a-b27f-493f-93c2-82acc2eb0586"
    }
   },
   "outputs": [],
   "source": [
    "# %load calculations.py\n",
    "PDOT = float(PDOT)\n",
    "PRI = float(PRI)\n",
    "PUST = float(PUST)\n",
    "AUST = float(AUST)\n",
    "APT = float(APT)\n",
    "ADOT = float(ADOT)\n",
    "ATT = float(ATT)\n",
    "AQT = float(AQT)\n",
    "APWT = float(APWT)\n",
    "APAT = float(APAT)\n",
    "GQ = float(GQ)\n",
    "SQ = float(SQ)\n",
    "PSQ = float(PSQ)\n",
    "RQ = float(RQ)\n",
    "OTBF = float(OTBF)\n",
    "CMT = float(CMT)\n",
    "PMT = float (PMT)\n",
    "BLT = float(BLT)\n",
    "STT = float(STT)\n",
    "#HIGHER THE BETTER CALCULATIONS max 100%\n",
    "A = APT/PBT \n",
    "AE = AUBT/PBT \n",
    "TE = APT/(APT+ADOT)\n",
    "WE = APWT/APAT \n",
    "UE = APT/AUBT\n",
    "E = PRI*PQ/APT \n",
    "FTQ = GQ/PQF \n",
    "QBR = (GQ+RQ)/PQ\n",
    "WE = APWT/APAT \n",
    "#lOWER THE BETTER CALCULATIONS min 0%\n",
    "SeR = AUST/AUPT \n",
    "SeR_inv = 1/SeR \n",
    "BL = BLT/PBT \n",
    "BL_inv = 1/BL \n",
    "ST = STT/PBT\n",
    "ST_inv = 1/ST \n",
    "SQR = SQ/PSQ \n",
    "SQR_inv = 1/SQR \n",
    "SR = SQ/PQ\n",
    "SR_inv = 1/SR\n",
    "RR = RQ/PQ \n",
    "RR_inv = 1/RR \n",
    "FR = 1 - (PQF/PQ)\n",
    "FR_inv = 1/FR \n",
    "CMR = CMT/PMT\n",
    "CMR_inv = 1/CMR"
   ]
  },
  {
   "cell_type": "code",
   "execution_count": 45,
   "metadata": {
    "collapsed": false,
    "nbpresent": {
     "id": "1aacfb11-29cc-47ed-99d7-85b6ed707570"
    }
   },
   "outputs": [
    {
     "data": {
      "application/javascript": [
       "require.config({\n",
       "  paths: {\n",
       "      d3: '//cdnjs.cloudflare.com/ajax/libs/d3/3.4.8/d3.min'\n",
       "  }\n",
       "});"
      ],
      "text/plain": [
       "<IPython.core.display.Javascript object>"
      ]
     },
     "metadata": {},
     "output_type": "display_data"
    }
   ],
   "source": [
    "%%javascript\n",
    "require.config({\n",
    "  paths: {\n",
    "      d3: '//cdnjs.cloudflare.com/ajax/libs/d3/3.4.8/d3.min'\n",
    "  }\n",
    "});"
   ]
  },
  {
   "cell_type": "code",
   "execution_count": 46,
   "metadata": {
    "collapsed": false,
    "nbpresent": {
     "id": "ae35548e-5f66-4185-bd4d-28aaef276ef6"
    }
   },
   "outputs": [
    {
     "ename": "NameError",
     "evalue": "name 'display' is not defined",
     "output_type": "error",
     "traceback": [
      "\u001b[1;31m---------------------------------------------------------------------------\u001b[0m",
      "\u001b[1;31mNameError\u001b[0m                                 Traceback (most recent call last)",
      "\u001b[1;32m<ipython-input-46-90d9a6c2f157>\u001b[0m in \u001b[0;36m<module>\u001b[1;34m()\u001b[0m\n\u001b[1;32m----> 1\u001b[1;33m display(HTML(\"\"\"\n\u001b[0m\u001b[0;32m      2\u001b[0m \u001b[1;33m<\u001b[0m\u001b[0mstyle\u001b[0m\u001b[1;33m>\u001b[0m\u001b[1;33m\u001b[0m\u001b[0m\n\u001b[0;32m      3\u001b[0m .bar {\n\u001b[0;32m      4\u001b[0m  \u001b[0mfill\u001b[0m\u001b[1;33m:\u001b[0m \u001b[0msteelblue\u001b[0m\u001b[1;33m;\u001b[0m\u001b[1;33m\u001b[0m\u001b[0m\n\u001b[0;32m      5\u001b[0m }\n",
      "\u001b[1;31mNameError\u001b[0m: name 'display' is not defined"
     ]
    }
   ],
   "source": [
    "display(HTML(\"\"\"\n",
    "<style>\n",
    ".bar {\n",
    " fill: steelblue;\n",
    "}\n",
    ".bar:hover {\n",
    " fill: brown;\n",
    "}\n",
    ".axis {\n",
    " font: 10px sans-serif;\n",
    "}\n",
    ".axis path,\n",
    ".axis line {\n",
    " fill: none;\n",
    " stroke: #000;\n",
    "}\n",
    ".x.axis path {\n",
    " display: none;\n",
    "}\n",
    "</style>\n",
    "<div id=\"chart_d3\"/>\n",
    "\"\"\"))"
   ]
  },
  {
   "cell_type": "code",
   "execution_count": null,
   "metadata": {
    "collapsed": true,
    "nbpresent": {
     "id": "3dd2c8b3-ce59-4f56-8b63-8f09a6a4e5eb"
    }
   },
   "outputs": [],
   "source": []
  }
 ],
 "metadata": {
  "anaconda-cloud": {
   "attach-environment": true,
   "environment": "Root",
   "url": "https://anaconda.org/mbrundag0620/kpi_vis_eqns"
  },
  "kernelspec": {
   "display_name": "Python [Root]",
   "language": "python",
   "name": "Python [Root]"
  },
  "language_info": {
   "codemirror_mode": {
    "name": "ipython",
    "version": 3
   },
   "file_extension": ".py",
   "mimetype": "text/x-python",
   "name": "python",
   "nbconvert_exporter": "python",
   "pygments_lexer": "ipython3",
   "version": "3.5.2"
  },
  "nbpresent": {
   "slides": {
    "2aff84fb-0117-46c3-94d9-78b16256e2f5": {
     "id": "2aff84fb-0117-46c3-94d9-78b16256e2f5",
     "prev": "a4ab5afb-e4dc-4849-a4f2-6ed4ce7945e5",
     "regions": {
      "a6078bc0-e68b-435c-aecc-290b2c204c0b": {
       "attrs": {
        "height": 0.8,
        "width": 0.8,
        "x": 0.1,
        "y": 0.1
       },
       "content": {
        "cell": "34143721-869f-4388-aedc-ae383e99b4d2",
        "part": "whole"
       },
       "id": "a6078bc0-e68b-435c-aecc-290b2c204c0b"
      }
     }
    },
    "3aac6a26-997e-4097-935e-ed038d06582b": {
     "id": "3aac6a26-997e-4097-935e-ed038d06582b",
     "prev": "2aff84fb-0117-46c3-94d9-78b16256e2f5",
     "regions": {
      "e5581787-e7da-4c86-a5db-eb2b43f8975c": {
       "attrs": {
        "height": 0.8,
        "width": 0.8,
        "x": 0.1,
        "y": 0.1
       },
       "content": {
        "cell": "9d66c728-4948-401a-ad2a-05f00eb28842",
        "part": "whole"
       },
       "id": "e5581787-e7da-4c86-a5db-eb2b43f8975c"
      }
     }
    },
    "5990f7be-4241-48c5-be45-005bb92596b5": {
     "id": "5990f7be-4241-48c5-be45-005bb92596b5",
     "prev": null,
     "regions": {
      "125230c1-40d1-49ae-ada4-603d041b9e1a": {
       "attrs": {
        "height": 0.8,
        "width": 0.8,
        "x": 0.1,
        "y": 0.1
       },
       "content": {
        "cell": "12280b8a-824a-47c2-8074-3c8e2b4538db",
        "part": "whole"
       },
       "id": "125230c1-40d1-49ae-ada4-603d041b9e1a"
      }
     }
    },
    "5a3feec3-b407-45b5-9591-00d023410006": {
     "id": "5a3feec3-b407-45b5-9591-00d023410006",
     "prev": "3aac6a26-997e-4097-935e-ed038d06582b",
     "regions": {
      "12b4b37b-a7b2-45dd-a77e-1aa210666ac2": {
       "attrs": {
        "height": 0.8,
        "width": 0.8,
        "x": 0.1,
        "y": 0.1
       },
       "content": {
        "cell": "60da197a-b27f-493f-93c2-82acc2eb0586",
        "part": "whole"
       },
       "id": "12b4b37b-a7b2-45dd-a77e-1aa210666ac2"
      }
     }
    },
    "6a4d9b0d-9b2a-48a0-8b05-da0a73b82abd": {
     "id": "6a4d9b0d-9b2a-48a0-8b05-da0a73b82abd",
     "prev": "96ed165d-91e6-4144-a674-71618ae6226a",
     "regions": {
      "75ee0180-4a30-4252-9a90-93f7fa0c7a90": {
       "attrs": {
        "height": 0.8,
        "width": 0.8,
        "x": 0.1,
        "y": 0.1
       },
       "content": {
        "cell": "ae35548e-5f66-4185-bd4d-28aaef276ef6",
        "part": "whole"
       },
       "id": "75ee0180-4a30-4252-9a90-93f7fa0c7a90"
      }
     }
    },
    "96ed165d-91e6-4144-a674-71618ae6226a": {
     "id": "96ed165d-91e6-4144-a674-71618ae6226a",
     "prev": "5a3feec3-b407-45b5-9591-00d023410006",
     "regions": {
      "e363bcc8-c945-4a83-a687-039a7aa34701": {
       "attrs": {
        "height": 0.8,
        "width": 0.8,
        "x": 0.1,
        "y": 0.1
       },
       "content": {
        "cell": "1aacfb11-29cc-47ed-99d7-85b6ed707570",
        "part": "whole"
       },
       "id": "e363bcc8-c945-4a83-a687-039a7aa34701"
      }
     }
    },
    "a4ab5afb-e4dc-4849-a4f2-6ed4ce7945e5": {
     "id": "a4ab5afb-e4dc-4849-a4f2-6ed4ce7945e5",
     "prev": "5990f7be-4241-48c5-be45-005bb92596b5",
     "regions": {
      "b77b73f7-eff1-4e0d-9cad-a5fa8bbed2e0": {
       "attrs": {
        "height": 0.8,
        "width": 0.8,
        "x": 0.1,
        "y": 0.1
       },
       "content": {
        "cell": "879c803a-4a50-4222-8c99-302613f3ffae",
        "part": "whole"
       },
       "id": "b77b73f7-eff1-4e0d-9cad-a5fa8bbed2e0"
      }
     }
    },
    "cf47cf03-07a2-4a7a-8c22-1a889d00af54": {
     "id": "cf47cf03-07a2-4a7a-8c22-1a889d00af54",
     "prev": "6a4d9b0d-9b2a-48a0-8b05-da0a73b82abd",
     "regions": {
      "bf8f7062-0845-4683-ba14-ea5959246cf6": {
       "attrs": {
        "height": 0.8,
        "width": 0.8,
        "x": 0.1,
        "y": 0.1
       },
       "content": {
        "cell": "3dd2c8b3-ce59-4f56-8b63-8f09a6a4e5eb",
        "part": "whole"
       },
       "id": "bf8f7062-0845-4683-ba14-ea5959246cf6"
      }
     }
    }
   },
   "themes": {}
  }
 },
 "nbformat": 4,
 "nbformat_minor": 0
}
