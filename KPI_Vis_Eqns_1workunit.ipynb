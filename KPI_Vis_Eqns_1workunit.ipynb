{
 "cells": [
  {
   "cell_type": "code",
   "execution_count": 15,
   "metadata": {
    "collapsed": true
   },
   "outputs": [],
   "source": [
    "# Planned Down Time (PDOT)\n",
    "PDOT = 1 \n",
    "# Planned run time per item (PRI)\n",
    "PRI = 1 \n",
    "# Planned Unit Setup Time (PUST)\n",
    "PUST = 1 \n",
    "#################################################################################################################################\n",
    "# Actual Unit Setup Time (AUST)\n",
    "AUST = 1 \n",
    "# Actual Production Time (APT)\n",
    "APT = 1 \n",
    "# Actual Unit Downtime (ADOT)\n",
    "ADOT = 1 \n",
    "# Actual Transportation Time (ATT)\n",
    "ATT = 1 \n",
    "# Actual Queueing Time (AQT)\n",
    "AQT = 1 \n",
    "#################################################################################################################################\n",
    "# Actual Personnel Work Time (APWT)\n",
    "APWT = 1 \n",
    "# Actual Personnel Attendance Time (APAT)\n",
    "APAT = 1 \n",
    "#################################################################################################################################\n",
    "# Good Quantity (GQ)\n",
    "GQ = 1 \n",
    "# Scrap Quantity (SQ)\n",
    "SQ = 1 \n",
    "# Planned Scrap Quantity (PSQ)\n",
    "PSQ = 1 \n",
    "# Rework Quantity (RQ)\n",
    "RQ = 1 \n",
    "#################################################################################################################################\n",
    "# Operating Time Between Failures (OTBF)\n",
    "OTBF = 1 \n",
    "# Corrective Maintenance Time (CMT)\n",
    "CMT = 1 \n",
    "# Preventative Maintenance Time (PMT)\n",
    "PMT = 1 \n",
    "#################################################################################################################################\n",
    "#Blockage Time (BLT)\n",
    "BLT = 1 \n",
    "#Starvation Time (STT)\n",
    "STT = 1 "
   ]
  },
  {
   "cell_type": "code",
   "execution_count": 16,
   "metadata": {
    "collapsed": false
   },
   "outputs": [],
   "source": [
    "# Planned Operation Time (POT) \n",
    "POT = PDOT + AUST + APT + BLT + STT \n",
    "# Planned Order Execution Time (POET) \n",
    "POET = PRI*(GQ+SQ+RQ*2)+PUST \n",
    "# Planned Busy Time (PBT)\n",
    "PBT = AUST + APT + ADOT + BLT + STT \n",
    "#################################################################################################################################\n",
    "# Actual Unit Delay Time (ADET) = Actual Unit Idle Time (AUIT)\n",
    "ADET = BLT + STT \n",
    "# Actual Unit Processing Time (AUPT)\n",
    "AUPT = AUST + APT \n",
    "# Actual Unit Busy Time (AUBT)\n",
    "AUBT = AUST + APT + ADOT \n",
    "# Actual Order Execution Time (AOET) \n",
    "AOET = AUST + APT + ADOT + ATT + AQT + BLT + STT \n",
    "#################################################################################################################################\n",
    "# Produced Quantity (PQ) \n",
    "PQ = GQ + SQ + 2*RQ\n",
    "# Produced Quantity in First Operation (PQF)\n",
    "PQF = GQ + SQ + RQ \n",
    "#################################################################################################################################\n",
    "# Time to Failure (TTF)\n",
    "TTF = AUST + OTBF + BLT + STT "
   ]
  },
  {
   "cell_type": "code",
   "execution_count": 19,
   "metadata": {
    "collapsed": false
   },
   "outputs": [],
   "source": [
    "#HIGHER THE BETTER CALCULATIONS \n",
    "# Availability (A) Higher, the better (100 Max)\n",
    "A = APT/PBT \n",
    "# Allocation Efficiency (AE) Higher, the better (100 max)\n",
    "AE = AUBT/PBT \n",
    "# Technical Efficiency (TE) Higher, the better (100 Max)\n",
    "TE = APT/(APT+ADOT)\n",
    "# Worker Effiency (WE) Higher, the better, (100 max)\n",
    "WE = APWT/APAT \n",
    "# Utilization Efficiency (UE), Higher the Better, (100 max)\n",
    "UE = APT/AUBT\n",
    "# Efficiency (E), Higher the better, (100 max)\n",
    "E = PRI*PQ/APT \n",
    "# First Time Quality, Higher the better, (100 max)\n",
    "FTQ = GQ/PQF \n",
    "# Quality Buy Rate, Higher the better, (100 max )\n",
    "QBR = (GQ+RQ)/PQ"
   ]
  },
  {
   "cell_type": "code",
   "execution_count": 20,
   "metadata": {
    "collapsed": true
   },
   "outputs": [],
   "source": [
    "#lOWER THE BETTER CALCULATIONS \n",
    "#* Setup Ratio (SeR), Lower, the better (0 Min)\n",
    "SeR = AUST/AUPT \n",
    "SeR_inv = 1/SeR \n",
    "#* Blockage Ratio, Lower the better (0 min) \n",
    "BL = BLT/PBT \n",
    "BL_inv = 1/BL \n",
    "#* Starvation Ratio, Lower the better (0 min)\n",
    "ST = STT/PBT\n",
    "ST_inv = 1/ST \n",
    "#* Actual to Planned Scrap Ratio, Lower the better (0 min)\n",
    "SQR = SQ/PSQ \n",
    "SQR_inv = 1/SQR \n",
    "#* Scrap Ratio, Lower the better (0 min)\n",
    "SR = SQ/PQ\n",
    "SR_inv = 1/SR\n",
    "#*Rework Ratio, Lower the better (0 min) \n",
    "RR = RQ/PQ \n",
    "RR_inv = 1/RR \n",
    "#*Fall off Ratio, Lower the better (0 min)\n",
    "FR = 1 - (PQF/PQ)\n",
    "FR_inv = 1/FR \n",
    "#* Corrective Maintenance Ratio, Lower the better, (0 min) \n",
    "CMR = CMT/PMT\n",
    "CMR_inv = 1/CMR"
   ]
  },
  {
   "cell_type": "code",
   "execution_count": 21,
   "metadata": {
    "collapsed": true
   },
   "outputs": [],
   "source": [
    "#WORKER KPIS \n",
    "# Worker Efficency, Higher the better (100 max) \n",
    "WE = APWT/APAT "
   ]
  },
  {
   "cell_type": "code",
   "execution_count": null,
   "metadata": {
    "collapsed": true
   },
   "outputs": [],
   "source": []
  }
 ],
 "metadata": {
  "anaconda-cloud": {
   "attach-environment": true,
   "environment": "Root",
   "url": "https://anaconda.org/mbrundag0620/kpi_vis_eqns"
  },
  "kernelspec": {
   "display_name": "Python [Root]",
   "language": "python",
   "name": "Python [Root]"
  },
  "language_info": {
   "codemirror_mode": {
    "name": "ipython",
    "version": 3
   },
   "file_extension": ".py",
   "mimetype": "text/x-python",
   "name": "python",
   "nbconvert_exporter": "python",
   "pygments_lexer": "ipython3",
   "version": "3.5.1"
  }
 },
 "nbformat": 4,
 "nbformat_minor": 0
}
